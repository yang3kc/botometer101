{
 "cells": [
  {
   "cell_type": "code",
   "execution_count": 60,
   "metadata": {},
   "outputs": [],
   "source": [
    "import json\n",
    "import pandas as pd\n",
    "import scipy.stats"
   ]
  },
  {
   "cell_type": "code",
   "execution_count": 84,
   "metadata": {},
   "outputs": [],
   "source": [
    "import matplotlib.pyplot as plt\n",
    "import matplotlib.ticker as mtick"
   ]
  },
  {
   "cell_type": "code",
   "execution_count": 98,
   "metadata": {},
   "outputs": [],
   "source": [
    "plt.rcParams.update({'font.size': 14})"
   ]
  },
  {
   "cell_type": "code",
   "execution_count": 144,
   "metadata": {},
   "outputs": [],
   "source": [
    "blue = '#1f77b4'\n",
    "light_blue = '#aec7e8'\n",
    "orange = '#ff7f0e'\n",
    "light_orange = '#ffbb78'\n",
    "gray = '#60636a'\n",
    "light_gray = '#a5acaf'"
   ]
  },
  {
   "cell_type": "markdown",
   "metadata": {},
   "source": [
    "# Load the tweets and bot scores"
   ]
  },
  {
   "cell_type": "code",
   "execution_count": 2,
   "metadata": {},
   "outputs": [],
   "source": [
    "def load_json_objects(path_to_file):\n",
    "    \"\"\"\n",
    "    Function to load JSON objects from .jsons file.\n",
    "    Each line of the .jsons file should be a serialized JSON object \n",
    "    \"\"\"\n",
    "    json_objects = []\n",
    "    with open(path_to_file) as f:\n",
    "        for line in f:\n",
    "            json_object = json.loads(line)\n",
    "            json_objects.append(json_object)\n",
    "    return json_objects"
   ]
  },
  {
   "cell_type": "code",
   "execution_count": 5,
   "metadata": {},
   "outputs": [],
   "source": [
    "shib_tweets = load_json_objects(\"../data/shib_tweets.jsons\")\n",
    "shib_bot_scores = load_json_objects(\"../data/shib_bot_scores.jsons\")"
   ]
  },
  {
   "cell_type": "code",
   "execution_count": 6,
   "metadata": {},
   "outputs": [],
   "source": [
    "floki_tweets = load_json_objects(\"../data/floki_tweets.jsons\")\n",
    "floki_bot_scores = load_json_objects(\"../data/floki_bot_scores.jsons\")"
   ]
  },
  {
   "cell_type": "code",
   "execution_count": 69,
   "metadata": {},
   "outputs": [],
   "source": [
    "aapl_tweets = load_json_objects(\"../data/aapl_tweets.jsons\")\n",
    "aapl_bot_scores = load_json_objects(\"../data/aapl_bot_scores.jsons\")"
   ]
  },
  {
   "cell_type": "markdown",
   "metadata": {},
   "source": [
    "# Process the tweets and bot scores"
   ]
  },
  {
   "cell_type": "code",
   "execution_count": 70,
   "metadata": {},
   "outputs": [],
   "source": [
    "tweet_info = []\n",
    "for tweet in shib_tweets:\n",
    "    tweet_info.append([\n",
    "        tweet['id_str'],\n",
    "        tweet['user']['id_str'],\n",
    "        'shib'\n",
    "    ])\n",
    "\n",
    "for tweet in floki_tweets:\n",
    "    tweet_info.append([\n",
    "        tweet['id_str'],\n",
    "        tweet['user']['id_str'],\n",
    "        'floki'\n",
    "    ])\n",
    "    \n",
    "for tweet in aapl_tweets:\n",
    "    tweet_info.append([\n",
    "        tweet['id_str'],\n",
    "        tweet['user']['id_str'],\n",
    "        'aapl'\n",
    "    ])\n",
    "\n",
    "tweet_info_df = pd.DataFrame(tweet_info, columns=['tid', 'user_id', 'cashtag'])"
   ]
  },
  {
   "cell_type": "code",
   "execution_count": 71,
   "metadata": {},
   "outputs": [],
   "source": [
    "bot_scores = []\n",
    "for bot_score in shib_bot_scores:\n",
    "    bot_scores.append([\n",
    "        bot_score['user']['user_data']['id_str'],\n",
    "        bot_score['user']['majority_lang'],\n",
    "        bot_score['raw_scores']['english']['overall'],\n",
    "        bot_score['raw_scores']['universal']['overall']\n",
    "    ])\n",
    "    \n",
    "for bot_score in floki_bot_scores:\n",
    "    bot_scores.append([\n",
    "        bot_score['user']['user_data']['id_str'],\n",
    "        bot_score['user']['majority_lang'],\n",
    "        bot_score['raw_scores']['english']['overall'],\n",
    "        bot_score['raw_scores']['universal']['overall']\n",
    "    ])\n",
    "    \n",
    "\n",
    "for bot_score in aapl_bot_scores:\n",
    "    bot_scores.append([\n",
    "        bot_score['user']['user_data']['id_str'],\n",
    "        bot_score['user']['majority_lang'],\n",
    "        bot_score['raw_scores']['english']['overall'],\n",
    "        bot_score['raw_scores']['universal']['overall']\n",
    "    ])\n",
    "    \n",
    "bot_scores_df = pd.DataFrame(bot_scores, columns=['user_id', 'lang', 'eng', 'uni'])"
   ]
  },
  {
   "cell_type": "code",
   "execution_count": 72,
   "metadata": {},
   "outputs": [],
   "source": [
    "bot_scores_df.drop_duplicates(subset=['user_id'], inplace=True)"
   ]
  },
  {
   "cell_type": "markdown",
   "metadata": {},
   "source": [
    "# Analyze the data"
   ]
  },
  {
   "cell_type": "markdown",
   "metadata": {},
   "source": [
    "## Check the use of different language"
   ]
  },
  {
   "cell_type": "code",
   "execution_count": 96,
   "metadata": {},
   "outputs": [],
   "source": [
    "lang_percent = bot_scores_df.lang.value_counts(normalize=True).head(10).sort_values().to_frame('pct')"
   ]
  },
  {
   "cell_type": "code",
   "execution_count": 134,
   "metadata": {},
   "outputs": [],
   "source": [
    "lang_code_map = {\n",
    "    'en': \"English\",\n",
    "    'ja': \"Japanese\",\n",
    "    'und': \"Unknown\",\n",
    "    'es': \"Spanish\",\n",
    "    'tr': \"Turkish\",\n",
    "    'ar': \"Arabic\",\n",
    "    'fr': \"French\",\n",
    "    'in': \"Hindi\",\n",
    "    'pt': \"Portuguese\",\n",
    "    'it': \"Italian\"\n",
    "}"
   ]
  },
  {
   "cell_type": "code",
   "execution_count": 135,
   "metadata": {},
   "outputs": [],
   "source": [
    "lang_percent['lang'] = list(map(lambda x: f\"{x}: {lang_code_map.get(x)}\", lang_percent.index))"
   ]
  },
  {
   "cell_type": "code",
   "execution_count": 136,
   "metadata": {},
   "outputs": [
    {
     "data": {
      "text/html": [
       "<div>\n",
       "<style scoped>\n",
       "    .dataframe tbody tr th:only-of-type {\n",
       "        vertical-align: middle;\n",
       "    }\n",
       "\n",
       "    .dataframe tbody tr th {\n",
       "        vertical-align: top;\n",
       "    }\n",
       "\n",
       "    .dataframe thead th {\n",
       "        text-align: right;\n",
       "    }\n",
       "</style>\n",
       "<table border=\"1\" class=\"dataframe\">\n",
       "  <thead>\n",
       "    <tr style=\"text-align: right;\">\n",
       "      <th></th>\n",
       "      <th>pct</th>\n",
       "      <th>lang</th>\n",
       "    </tr>\n",
       "  </thead>\n",
       "  <tbody>\n",
       "    <tr>\n",
       "      <th>it</th>\n",
       "      <td>0.001901</td>\n",
       "      <td>it: Italian</td>\n",
       "    </tr>\n",
       "    <tr>\n",
       "      <th>pt</th>\n",
       "      <td>0.002218</td>\n",
       "      <td>pt: Portuguese</td>\n",
       "    </tr>\n",
       "    <tr>\n",
       "      <th>in</th>\n",
       "      <td>0.002852</td>\n",
       "      <td>in: Hindi</td>\n",
       "    </tr>\n",
       "    <tr>\n",
       "      <th>fr</th>\n",
       "      <td>0.004436</td>\n",
       "      <td>fr: French</td>\n",
       "    </tr>\n",
       "    <tr>\n",
       "      <th>ar</th>\n",
       "      <td>0.010456</td>\n",
       "      <td>ar: Arabic</td>\n",
       "    </tr>\n",
       "    <tr>\n",
       "      <th>tr</th>\n",
       "      <td>0.011090</td>\n",
       "      <td>tr: Turkish</td>\n",
       "    </tr>\n",
       "    <tr>\n",
       "      <th>es</th>\n",
       "      <td>0.012991</td>\n",
       "      <td>es: Spanish</td>\n",
       "    </tr>\n",
       "    <tr>\n",
       "      <th>und</th>\n",
       "      <td>0.018378</td>\n",
       "      <td>und: Unknown</td>\n",
       "    </tr>\n",
       "    <tr>\n",
       "      <th>ja</th>\n",
       "      <td>0.020279</td>\n",
       "      <td>ja: Japanese</td>\n",
       "    </tr>\n",
       "    <tr>\n",
       "      <th>en</th>\n",
       "      <td>0.904309</td>\n",
       "      <td>en: English</td>\n",
       "    </tr>\n",
       "  </tbody>\n",
       "</table>\n",
       "</div>"
      ],
      "text/plain": [
       "          pct            lang\n",
       "it   0.001901     it: Italian\n",
       "pt   0.002218  pt: Portuguese\n",
       "in   0.002852       in: Hindi\n",
       "fr   0.004436      fr: French\n",
       "ar   0.010456      ar: Arabic\n",
       "tr   0.011090     tr: Turkish\n",
       "es   0.012991     es: Spanish\n",
       "und  0.018378    und: Unknown\n",
       "ja   0.020279    ja: Japanese\n",
       "en   0.904309     en: English"
      ]
     },
     "execution_count": 136,
     "metadata": {},
     "output_type": "execute_result"
    }
   ],
   "source": [
    "lang_percent"
   ]
  },
  {
   "cell_type": "code",
   "execution_count": 254,
   "metadata": {},
   "outputs": [
    {
     "data": {
      "image/png": "[encoded data removed]",
      "text/plain": [
       "<Figure size 432x360 with 1 Axes>"
      ]
     },
     "metadata": {
      "needs_background": "light"
     },
     "output_type": "display_data"
    }
   ],
   "source": [
    "plt.figure(figsize=(6, 5))\n",
    "plt.barh(\n",
    "    lang_percent.lang,\n",
    "    lang_percent.pct,\n",
    "    color=light_orange\n",
    ")\n",
    "plt.xlim([0, 1.01])\n",
    "\n",
    "plt.gca().xaxis.set_major_formatter(mtick.PercentFormatter(xmax=1))\n",
    "\n",
    "plt.gca().grid(axis='x', alpha=0.2, linestyle='--', linewidth=1,)\n",
    "\n",
    "plt.xlabel(\"Frequency\")\n",
    "\n",
    "plt.gca().spines['top'].set_visible(False)\n",
    "plt.gca().spines['left'].set_visible(False)\n",
    "plt.gca().spines['right'].set_visible(False)\n",
    "plt.gca().spines['bottom'].set_visible(False)\n",
    "plt.tight_layout()\n",
    "plt.savefig(\"figures/language_freqency.pdf\")"
   ]
  },
  {
   "cell_type": "markdown",
   "metadata": {},
   "source": [
    "## Check the bot score distribution"
   ]
  },
  {
   "cell_type": "code",
   "execution_count": 259,
   "metadata": {},
   "outputs": [
    {
     "data": {
      "image/png": "[encoded data removed]",
      "text/plain": [
       "<Figure size 396x324 with 3 Axes>"
      ]
     },
     "metadata": {
      "needs_background": "light"
     },
     "output_type": "display_data"
    }
   ],
   "source": [
    "dist_to_plot = [\n",
    "    [1, 'shib', light_blue, '$SHIB'],\n",
    "    [2, 'floki', light_orange, '$FLOKI'],\n",
    "    [3, 'aapl', light_gray, '$AAPL']\n",
    "]\n",
    "\n",
    "plt.figure(figsize=(5.5, 4.5))\n",
    "for index, key, color, title in dist_to_plot:\n",
    "    plt.subplot(3, 1, index)\n",
    "    plt.hist(\n",
    "        tweet_with_bot_score_df.query(f'cashtag == \"{key}\"').eng,\n",
    "        bins=50,\n",
    "        color=color,\n",
    "    );\n",
    "    plt.annotate(title, xy=(0.03,0.7), xycoords='axes fraction')\n",
    "    if index<3:\n",
    "        plt.gca().set_xticklabels([])\n",
    "    if index == 2:\n",
    "        plt.ylabel(\"Frequency\")\n",
    "    if index==3:\n",
    "        plt.xlabel('Bot score')\n",
    "        \n",
    "    plt.gca().spines['top'].set_visible(False)\n",
    "    plt.gca().spines['right'].set_visible(False)\n",
    "    plt.ylim([0, 150])\n",
    "plt.tight_layout()\n",
    "plt.savefig(\"figures/bot_score_dist.pdf\")"
   ]
  },
  {
   "cell_type": "markdown",
   "metadata": {},
   "source": [
    "## Boxplot"
   ]
  },
  {
   "cell_type": "code",
   "execution_count": 260,
   "metadata": {},
   "outputs": [
    {
     "data": {
      "image/png": "[encoded data removed]",
      "text/plain": [
       "<Figure size 360x324 with 1 Axes>"
      ]
     },
     "metadata": {
      "needs_background": "light"
     },
     "output_type": "display_data"
    }
   ],
   "source": [
    "plt.figure(figsize=(5, 4.5))\n",
    "for index, key, color, title in dist_to_plot:\n",
    "    box = plt.boxplot(\n",
    "        [\n",
    "            tweet_with_bot_score_df.query(f'cashtag == \"{key}\"').eng\n",
    "        ],\n",
    "        positions=[4 - index],\n",
    "        widths=0.3,\n",
    "        patch_artist=True,\n",
    "        notch=False,\n",
    "        whis=(5, 95),\n",
    "        vert=False\n",
    "    );\n",
    "    for item in ['boxes', 'whiskers', 'fliers', 'medians', 'caps']:\n",
    "            plt.setp(box[item], color=color)\n",
    "    plt.setp(box['medians'], color='white', lw=1.2)\n",
    "    plt.setp(box[\"boxes\"], facecolor=color)\n",
    "    plt.setp(box[\"fliers\"], markerfacecolor=color, markeredgecolor='white', markersize=3, markeredgewidth=0.5)\n",
    "    plt.setp(box['whiskers'], lw=2.5)\n",
    "    plt.setp(box['caps'], lw=2.5)\n",
    "plt.gca().xaxis.grid(which=\"major\", color='gray', linestyle='--', linewidth=1, alpha=0.2)\n",
    "\n",
    "plt.gca().spines['top'].set_visible(False)\n",
    "plt.gca().spines['right'].set_visible(False)\n",
    "plt.gca().spines['bottom'].set_visible(False)\n",
    "plt.gca().spines['left'].set_visible(False)\n",
    "\n",
    "plt.yticks([3, 2, 1], ['$SHIB', '$FLOKI', '$AAPL'])\n",
    "plt.xlabel('Bot score')\n",
    "\n",
    "plt.tight_layout()\n",
    "plt.savefig(\"figures/bot_score_boxplot.pdf\")"
   ]
  },
  {
   "cell_type": "code",
   "execution_count": 202,
   "metadata": {},
   "outputs": [
    {
     "data": {
      "text/plain": [
       "Ttest_indResult(statistic=-0.38152105341326525, pvalue=0.7028369316518408)"
      ]
     },
     "execution_count": 202,
     "metadata": {},
     "output_type": "execute_result"
    }
   ],
   "source": [
    "scipy.stats.ttest_ind(\n",
    "    tweet_with_bot_score_df.query('cashtag == \"shib\"').eng,\n",
    "    tweet_with_bot_score_df.query('cashtag == \"floki\"').eng\n",
    ")"
   ]
  },
  {
   "cell_type": "code",
   "execution_count": 203,
   "metadata": {},
   "outputs": [
    {
     "data": {
      "text/plain": [
       "Ttest_indResult(statistic=5.569337124799645, pvalue=2.7251967922036564e-08)"
      ]
     },
     "execution_count": 203,
     "metadata": {},
     "output_type": "execute_result"
    }
   ],
   "source": [
    "scipy.stats.ttest_ind(\n",
    "    tweet_with_bot_score_df.query('cashtag == \"shib\"').eng,\n",
    "    tweet_with_bot_score_df.query('cashtag == \"aapl\"').eng\n",
    ")"
   ]
  },
  {
   "cell_type": "code",
   "execution_count": 204,
   "metadata": {},
   "outputs": [
    {
     "data": {
      "text/plain": [
       "Ttest_indResult(statistic=5.771342559705422, pvalue=8.460723337479158e-09)"
      ]
     },
     "execution_count": 204,
     "metadata": {},
     "output_type": "execute_result"
    }
   ],
   "source": [
    "scipy.stats.ttest_ind(\n",
    "    tweet_with_bot_score_df.query('cashtag == \"floki\"').eng,\n",
    "    tweet_with_bot_score_df.query('cashtag == \"aapl\"').eng\n",
    ")"
   ]
  },
  {
   "cell_type": "markdown",
   "metadata": {},
   "source": [
    "## Different thresholds"
   ]
  },
  {
   "cell_type": "code",
   "execution_count": 64,
   "metadata": {},
   "outputs": [
    {
     "data": {
      "text/plain": [
       "1215"
      ]
     },
     "execution_count": 64,
     "metadata": {},
     "output_type": "execute_result"
    }
   ],
   "source": [
    "len(tweet_with_bot_score_df.query('cashtag == \"shib\" and eng > 0.5'))"
   ]
  },
  {
   "cell_type": "code",
   "execution_count": 66,
   "metadata": {},
   "outputs": [
    {
     "data": {
      "text/plain": [
       "1130"
      ]
     },
     "execution_count": 66,
     "metadata": {},
     "output_type": "execute_result"
    }
   ],
   "source": [
    "len(tweet_with_bot_score_df.query('cashtag == \"floki\" and eng > 0.5'))"
   ]
  },
  {
   "cell_type": "code",
   "execution_count": 78,
   "metadata": {},
   "outputs": [
    {
     "data": {
      "text/plain": [
       "1030"
      ]
     },
     "execution_count": 78,
     "metadata": {},
     "output_type": "execute_result"
    }
   ],
   "source": [
    "len(tweet_with_bot_score_df.query('cashtag == \"aapl\" and eng > 0.5'))"
   ]
  },
  {
   "cell_type": "code",
   "execution_count": 67,
   "metadata": {},
   "outputs": [
    {
     "data": {
      "text/plain": [
       "591"
      ]
     },
     "execution_count": 67,
     "metadata": {},
     "output_type": "execute_result"
    }
   ],
   "source": [
    "len(tweet_with_bot_score_df.query('cashtag == \"shib\" and eng > 0.7'))"
   ]
  },
  {
   "cell_type": "code",
   "execution_count": 68,
   "metadata": {},
   "outputs": [
    {
     "data": {
      "text/plain": [
       "578"
      ]
     },
     "execution_count": 68,
     "metadata": {},
     "output_type": "execute_result"
    }
   ],
   "source": [
    "len(tweet_with_bot_score_df.query('cashtag == \"floki\" and eng > 0.7'))"
   ]
  },
  {
   "cell_type": "code",
   "execution_count": 79,
   "metadata": {},
   "outputs": [
    {
     "data": {
      "text/plain": [
       "760"
      ]
     },
     "execution_count": 79,
     "metadata": {},
     "output_type": "execute_result"
    }
   ],
   "source": [
    "len(tweet_with_bot_score_df.query('cashtag == \"aapl\" and eng > 0.7'))"
   ]
  },
  {
   "cell_type": "code",
   "execution_count": 264,
   "metadata": {},
   "outputs": [
    {
     "data": {
      "image/png": "[encoded data removed]",
      "text/plain": [
       "<Figure size 360x324 with 1 Axes>"
      ]
     },
     "metadata": {
      "needs_background": "light"
     },
     "output_type": "display_data"
    }
   ],
   "source": [
    "plt.figure(figsize=(5, 4.5))\n",
    "threshold = 0.5\n",
    "bot_pct = [\n",
    "    len(tweet_with_bot_score_df.query(f'cashtag == \"shib\" and eng > {threshold}')) / 2000,\n",
    "    len(tweet_with_bot_score_df.query(f'cashtag == \"floki\" and eng > {threshold}')) / 2000,\n",
    "    len(tweet_with_bot_score_df.query(f'cashtag == \"aapl\" and eng > {threshold}')) / 2000\n",
    "]\n",
    "plt.barh(\n",
    "    [3, 2, 1],\n",
    "    bot_pct,\n",
    "    height=0.3,\n",
    "    color=[light_blue, light_orange, light_gray]\n",
    ")\n",
    "\n",
    "for i, pct in enumerate(bot_pct):\n",
    "    plt.text(pct-0.06, 3 - i, f\"{pct*100:.1f}%\", color='white', ha='center', va='center')\n",
    "\n",
    "plt.ylim([0.5, 3.5])\n",
    "plt.xlim([0, 0.62])\n",
    "\n",
    "plt.gca().xaxis.set_major_formatter(mtick.PercentFormatter(xmax=1))\n",
    "\n",
    "plt.gca().grid(axis='x', alpha=0.2, linestyle='--', linewidth=1,)\n",
    "\n",
    "plt.yticks([3, 2, 1], ['$SHIB', '$FLOKI', '$AAPL'])\n",
    "plt.xlabel(f\"Percentage of bot-like accounts (>{threshold})\")\n",
    "\n",
    "plt.gca().spines['top'].set_visible(False)\n",
    "plt.gca().spines['left'].set_visible(False)\n",
    "plt.gca().spines['right'].set_visible(False)\n",
    "plt.gca().spines['bottom'].set_visible(False)\n",
    "\n",
    "plt.tight_layout()\n",
    "plt.savefig(\"figures/bot_percent_05.pdf\")"
   ]
  },
  {
   "cell_type": "code",
   "execution_count": 263,
   "metadata": {},
   "outputs": [
    {
     "data": {
      "image/png": "[encoded data removed]",
      "text/plain": [
       "<Figure size 360x324 with 1 Axes>"
      ]
     },
     "metadata": {
      "needs_background": "light"
     },
     "output_type": "display_data"
    }
   ],
   "source": [
    "plt.figure(figsize=(5, 4.5))\n",
    "threshold = 0.7\n",
    "bot_pct = [\n",
    "    len(tweet_with_bot_score_df.query(f'cashtag == \"shib\" and eng > {threshold}')) / 2000,\n",
    "    len(tweet_with_bot_score_df.query(f'cashtag == \"floki\" and eng > {threshold}')) / 2000,\n",
    "    len(tweet_with_bot_score_df.query(f'cashtag == \"aapl\" and eng > {threshold}')) / 2000\n",
    "]\n",
    "plt.barh(\n",
    "    [3, 2, 1],\n",
    "    bot_pct,\n",
    "    height=0.3,\n",
    "    color=[light_blue, light_orange, light_gray]\n",
    ")\n",
    "\n",
    "for i, pct in enumerate(bot_pct):\n",
    "    plt.text(pct-0.04, 3 - i, f\"{pct*100:.1f}%\", color='white', ha='center', va='center')\n",
    "\n",
    "plt.ylim([0.5, 3.5])\n",
    "plt.xlim([0, 0.41])\n",
    "\n",
    "plt.gca().xaxis.set_major_formatter(mtick.PercentFormatter(xmax=1, decimals=0))\n",
    "\n",
    "plt.gca().grid(axis='x', alpha=0.2, linestyle='--', linewidth=1,)\n",
    "\n",
    "plt.yticks([3, 2, 1], ['$SHIB', '$FLOKI', '$AAPL'])\n",
    "plt.xlabel(f\"Percentage of bot-like accounts (>{threshold})\")\n",
    "\n",
    "plt.gca().spines['top'].set_visible(False)\n",
    "plt.gca().spines['left'].set_visible(False)\n",
    "plt.gca().spines['right'].set_visible(False)\n",
    "plt.gca().spines['bottom'].set_visible(False)\n",
    "\n",
    "plt.tight_layout()\n",
    "plt.savefig(\"figures/bot_percent_07.pdf\")"
   ]
  },
  {
   "cell_type": "code",
   "execution_count": null,
   "metadata": {},
   "outputs": [],
   "source": []
  }
 ],
 "metadata": {
  "kernelspec": {
   "display_name": "Python 3",
   "language": "python",
   "name": "python3"
  },
  "language_info": {
   "codemirror_mode": {
    "name": "ipython",
    "version": 3
   },
   "file_extension": ".py",
   "mimetype": "text/x-python",
   "name": "python",
   "nbconvert_exporter": "python",
   "pygments_lexer": "ipython3",
   "version": "3.7.3"
  }
 },
 "nbformat": 4,
 "nbformat_minor": 2
}
