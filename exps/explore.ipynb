{
 "cells": [
  {
   "cell_type": "code",
   "execution_count": 1,
   "metadata": {},
   "outputs": [],
   "source": [
    "import tweepy\n",
    "import json"
   ]
  },
  {
   "cell_type": "code",
   "execution_count": 4,
   "metadata": {},
   "outputs": [
    {
     "data": {
      "text/plain": [
       "'3.10.0'"
      ]
     },
     "execution_count": 4,
     "metadata": {},
     "output_type": "execute_result"
    }
   ],
   "source": [
    "tweepy.__version__"
   ]
  },
  {
   "cell_type": "code",
   "execution_count": 5,
   "metadata": {},
   "outputs": [],
   "source": [
    "with open(\"keys.json\") as f:\n",
    "    keys = json.load(f)"
   ]
  },
  {
   "cell_type": "code",
   "execution_count": 6,
   "metadata": {},
   "outputs": [],
   "source": [
    "auth = tweepy.OAuthHandler(keys['consumer_key'], keys['consumer_secret'])\n",
    "auth.set_access_token(keys['access_token'], keys['access_token_secret'])\n",
    "\n",
    "api = tweepy.API(auth, wait_on_rate_limit=True)"
   ]
  },
  {
   "cell_type": "code",
   "execution_count": 7,
   "metadata": {},
   "outputs": [
    {
     "name": "stdout",
     "output_type": "stream",
     "text": [
      "RT @CDTChinese: 【CDT敏感词周报】第39期：埃内斯·坎特、无害化处置、蛋炒饭、钻石杯、大坂直美 https://t.co/7kAdU5YBII\n",
      "我就知道，鱿鱼游戏里的糖饼是偷中国的 https://t.co/55FVELoOYu\n",
      "今天这个泽泽的回复火了 https://t.co/ENKeUSnaJL\n",
      "我快成老胡铁粉了，主要是下面的评论成快乐大本营了😂 https://t.co/AyUb5YTImy\n",
      "说这话的时候，真的没担心一溜嘴把美国说成中国吗？ https://t.co/fGxjtW5GQW\n",
      "给西瓜讲睡前故事，今天讲了海的女儿：小美人鱼把王子救到了岸上，进行了五次人工呼吸，接着三十次胸外按压，再两次人工呼吸，再三十次胸外按压…\n",
      "@CaminoTexas 敝国川家人与小粉红基本同一精神类型，区别仅在心他们中灯塔位置不同，自以为“反赵了”，“革命了”，或“信基督”了。\n",
      "张同志的学霸人设要崩，刚吃午饭，\n",
      "清宝问他花生是长在树上还是地上的时候，他居然不知道,我真是对他翻了个大大的白眼😂\n",
      "7/ 历史上，少数族裔在美国受到过不公正对待，但宪法承诺了平等，法院也说平等的意思是把本来处于低位的人群“向上拉平”，不是把他们“向下拉平”，也不能是把有些人向上拉，把另一些人向下拉。我们从一个缺少现代文明的时空来到这里，学习现代… https://t.co/PL6bikQxKf\n",
      "6/ 在历史的关键节点，制度和国民的德性能形成难得的偶合，没有让国家偏到更坏的道路上去。用容易理解的话讲，就是美国人的同理心和良知在很多历史时段能借助制度、集体的勇气和意志战胜邪恶。比如说，解放黑奴的是白人，虽然过程曲折，但没有国民的同理心和社会的良知，至少在19世纪，很难做到。\n",
      "5/ 美国这个国家相当多元化，在任何时代都是不同的种族、不同的价值观、不同的生活方式并存，有向恶的力量，但向善的力量往往更强大。这是美国一直吸引全世界有勇气、有能力和有见识的人来这里定居，为自己和后代谋求更好生活的原因。跟制度因素同样重要的是人的因素。\n",
      "RT @dodo: Watch a blind pittie puppy show a heartbroken cat how to be happy 💗 https://t.co/ag3ro9hpiF\n",
      "Tonight, beginning at 11pm EST on The Daily Show's social feeds, the 24-hour #KlepperMarathon begins. Strap in. https://t.co/1X2ZiNORa8\n",
      "we all know that feeling 😴 @EvcNoble https://t.co/UzpshIpwwA\n",
      "Happy Thanksgiving to all! Hope you have a great day. \n",
      "\n",
      "Your support over the years is super appreciated 😀\n",
      "RT @HaoMao2017: 我老人家再喵一遍，孟晚舟很快就會知道賴在加拿大蹭吃蹭喝當模特的三年是她人生最逍遙的時光。🤷🏻‍♀️🤷🏻‍♀️\n",
      "潜行者 https://t.co/RtlF9KLwo9\n",
      "并没有 https://t.co/uo5edvjNF9\n",
      "Python News: What's New From October 2021?  https://t.co/wZ2wcPq9i2\n",
      "RT @ForestIovers: https://t.co/qyFGKBLSPD\n"
     ]
    }
   ],
   "source": [
    "public_tweets = api.home_timeline()\n",
    "for tweet in public_tweets:\n",
    "    print(tweet.text)"
   ]
  },
  {
   "cell_type": "code",
   "execution_count": 19,
   "metadata": {},
   "outputs": [],
   "source": [
    "resp = api.search_tweets(\"#FLOKI\", count=100)"
   ]
  },
  {
   "cell_type": "code",
   "execution_count": 20,
   "metadata": {},
   "outputs": [
    {
     "data": {
      "text/plain": [
       "1463976891191214082"
      ]
     },
     "execution_count": 20,
     "metadata": {},
     "output_type": "execute_result"
    }
   ],
   "source": [
    "resp.since_id"
   ]
  },
  {
   "cell_type": "code",
   "execution_count": 14,
   "metadata": {},
   "outputs": [
    {
     "data": {
      "text/plain": [
       "'Gorgonites! Ive found the next #floki themed #memecoin that is going to take over the whole space!👇😏\\n\\n@Marvin_Inu i… https://t.co/1P6KatkQbH'"
      ]
     },
     "execution_count": 14,
     "metadata": {},
     "output_type": "execute_result"
    }
   ],
   "source": [
    "resp[0].text"
   ]
  },
  {
   "cell_type": "code",
   "execution_count": 21,
   "metadata": {
    "collapsed": true
   },
   "outputs": [
    {
     "name": "stdout",
     "output_type": "stream",
     "text": [
      "1463976891191214082 2021-11-25 21:04:24+00:00\n",
      "1463976884895510530 2021-11-25 21:04:23+00:00\n",
      "1463976868269281282 2021-11-25 21:04:19+00:00\n",
      "1463976866276995075 2021-11-25 21:04:18+00:00\n",
      "1463976856022142986 2021-11-25 21:04:16+00:00\n",
      "1463976854600175636 2021-11-25 21:04:16+00:00\n",
      "1463976849424408576 2021-11-25 21:04:14+00:00\n",
      "1463976844995272708 2021-11-25 21:04:13+00:00\n",
      "1463976826645192712 2021-11-25 21:04:09+00:00\n",
      "1463976823939743747 2021-11-25 21:04:08+00:00\n",
      "1463976811109367808 2021-11-25 21:04:05+00:00\n",
      "1463976807003156480 2021-11-25 21:04:04+00:00\n",
      "1463976804247605257 2021-11-25 21:04:04+00:00\n",
      "1463976802691469314 2021-11-25 21:04:03+00:00\n",
      "1463976799508242432 2021-11-25 21:04:03+00:00\n",
      "1463976782856658954 2021-11-25 21:03:59+00:00\n",
      "1463976773104898052 2021-11-25 21:03:56+00:00\n",
      "1463976761239158784 2021-11-25 21:03:53+00:00\n",
      "1463976751537827841 2021-11-25 21:03:51+00:00\n",
      "1463976733091278848 2021-11-25 21:03:47+00:00\n",
      "1463976712417341440 2021-11-25 21:03:42+00:00\n",
      "1463976710089572352 2021-11-25 21:03:41+00:00\n",
      "1463976700010635264 2021-11-25 21:03:39+00:00\n",
      "1463976693241102339 2021-11-25 21:03:37+00:00\n",
      "1463976685095772164 2021-11-25 21:03:35+00:00\n",
      "1463976684206673920 2021-11-25 21:03:35+00:00\n",
      "1463976683606720525 2021-11-25 21:03:35+00:00\n",
      "1463976681979453443 2021-11-25 21:03:35+00:00\n",
      "1463976676598194181 2021-11-25 21:03:33+00:00\n",
      "1463976674400223239 2021-11-25 21:03:33+00:00\n",
      "1463976674190663691 2021-11-25 21:03:33+00:00\n",
      "1463976671258808326 2021-11-25 21:03:32+00:00\n",
      "1463976654204649481 2021-11-25 21:03:28+00:00\n",
      "1463976643358343173 2021-11-25 21:03:25+00:00\n",
      "1463976626300071937 2021-11-25 21:03:21+00:00\n",
      "1463976620461473803 2021-11-25 21:03:20+00:00\n",
      "1463976618066653187 2021-11-25 21:03:19+00:00\n",
      "1463976604565217286 2021-11-25 21:03:16+00:00\n",
      "1463976594742120455 2021-11-25 21:03:14+00:00\n",
      "1463976589037907969 2021-11-25 21:03:12+00:00\n",
      "1463976574575853576 2021-11-25 21:03:09+00:00\n",
      "1463976571136446464 2021-11-25 21:03:08+00:00\n",
      "1463976566594195459 2021-11-25 21:03:07+00:00\n",
      "1463976561254797312 2021-11-25 21:03:06+00:00\n",
      "1463976545182232577 2021-11-25 21:03:02+00:00\n",
      "1463976538005651461 2021-11-25 21:03:00+00:00\n",
      "1463976532020318208 2021-11-25 21:02:59+00:00\n",
      "1463976513213186054 2021-11-25 21:02:54+00:00\n",
      "1463976510096822276 2021-11-25 21:02:54+00:00\n",
      "1463976504296017922 2021-11-25 21:02:52+00:00\n",
      "1463976502488453120 2021-11-25 21:02:52+00:00\n",
      "1463976488324288515 2021-11-25 21:02:48+00:00\n",
      "1463976484524208139 2021-11-25 21:02:47+00:00\n",
      "1463976467084103682 2021-11-25 21:02:43+00:00\n",
      "1463976458267865096 2021-11-25 21:02:41+00:00\n",
      "1463976434230169600 2021-11-25 21:02:35+00:00\n",
      "1463976432284016640 2021-11-25 21:02:35+00:00\n",
      "1463976427435732993 2021-11-25 21:02:34+00:00\n",
      "1463976425942355982 2021-11-25 21:02:33+00:00\n",
      "1463976423450988550 2021-11-25 21:02:33+00:00\n",
      "1463976422914113541 2021-11-25 21:02:33+00:00\n",
      "1463976415032922123 2021-11-25 21:02:31+00:00\n",
      "1463976411920797697 2021-11-25 21:02:30+00:00\n",
      "1463976407617323013 2021-11-25 21:02:29+00:00\n",
      "1463976403943133188 2021-11-25 21:02:28+00:00\n",
      "1463976401992888327 2021-11-25 21:02:28+00:00\n",
      "1463976400155729928 2021-11-25 21:02:27+00:00\n",
      "1463976337845202944 2021-11-25 21:02:12+00:00\n",
      "1463976327644520448 2021-11-25 21:02:10+00:00\n",
      "1463976325782384642 2021-11-25 21:02:10+00:00\n",
      "1463976318450683911 2021-11-25 21:02:08+00:00\n",
      "1463976317439946752 2021-11-25 21:02:08+00:00\n",
      "1463976317129568260 2021-11-25 21:02:08+00:00\n",
      "1463976315787231236 2021-11-25 21:02:07+00:00\n",
      "1463976313442779136 2021-11-25 21:02:07+00:00\n",
      "1463976312436142082 2021-11-25 21:02:06+00:00\n",
      "1463976292659777536 2021-11-25 21:02:02+00:00\n",
      "1463976290323611659 2021-11-25 21:02:01+00:00\n",
      "1463976285340946436 2021-11-25 21:02:00+00:00\n",
      "1463976278332264453 2021-11-25 21:01:58+00:00\n",
      "1463976271407304708 2021-11-25 21:01:57+00:00\n",
      "1463976240889712641 2021-11-25 21:01:49+00:00\n",
      "1463976229682491394 2021-11-25 21:01:47+00:00\n",
      "1463976224192188419 2021-11-25 21:01:45+00:00\n",
      "1463976220056436756 2021-11-25 21:01:44+00:00\n",
      "1463976215899901954 2021-11-25 21:01:43+00:00\n",
      "1463976198657167360 2021-11-25 21:01:39+00:00\n",
      "1463976186615250953 2021-11-25 21:01:36+00:00\n",
      "1463976186342621200 2021-11-25 21:01:36+00:00\n",
      "1463976176867708932 2021-11-25 21:01:34+00:00\n",
      "1463976168089128964 2021-11-25 21:01:32+00:00\n",
      "1463976165253660676 2021-11-25 21:01:31+00:00\n",
      "1463976161357152276 2021-11-25 21:01:30+00:00\n",
      "1463976159608143873 2021-11-25 21:01:30+00:00\n",
      "1463976146949791750 2021-11-25 21:01:27+00:00\n",
      "1463976146618355712 2021-11-25 21:01:27+00:00\n",
      "1463976141241430033 2021-11-25 21:01:26+00:00\n",
      "1463976132873707525 2021-11-25 21:01:24+00:00\n",
      "1463976129971167233 2021-11-25 21:01:23+00:00\n",
      "1463976129182658561 2021-11-25 21:01:23+00:00\n"
     ]
    }
   ],
   "source": [
    "for tweet in resp:\n",
    "    print(tweet.id, tweet.created_at)"
   ]
  },
  {
   "cell_type": "code",
   "execution_count": 28,
   "metadata": {},
   "outputs": [],
   "source": [
    "tweets = []\n",
    "for status in tweepy.Cursor(\n",
    "    api.search,\n",
    "    \"$FLOKI\",\n",
    "    count=100\n",
    ").items(250):\n",
    "    tweets.append(status)"
   ]
  },
  {
   "cell_type": "code",
   "execution_count": 30,
   "metadata": {},
   "outputs": [
    {
     "data": {
      "text/plain": [
       "'$YES accumulation now on the pinnacle of exploding.\\nAscending triangle formation\\n\\nThe team keeps on DELIVERING\\nStil… https://t.co/KBjs0vK3jJ'"
      ]
     },
     "execution_count": 30,
     "metadata": {},
     "output_type": "execute_result"
    }
   ],
   "source": [
    "tweets[0].text"
   ]
  },
  {
   "cell_type": "code",
   "execution_count": 19,
   "metadata": {},
   "outputs": [
    {
     "data": {
      "text/plain": [
       "{'created_at': 'Thu Nov 25 21:32:47 +0000 2021',\n",
       " 'id': 1463984031062638612,\n",
       " 'id_str': '1463984031062638612',\n",
       " 'text': 'RT @cryptobri_: I need more $MJT !!!🥂🥂 \\n\\nI love the Yields with @MojitoSwap🍹 , Happy Thanksgiving Day✨🍗 \\n\\n$MJT 🚀🚀🚀 @kucoincom\\n\\nGet $MJT Rew…',\n",
       " 'truncated': False,\n",
       " 'entities': {'hashtags': [],\n",
       "  'symbols': [{'text': 'MJT', 'indices': [28, 32]},\n",
       "   {'text': 'MJT', 'indices': [106, 110]},\n",
       "   {'text': 'MJT', 'indices': [131, 135]}],\n",
       "  'user_mentions': [{'screen_name': 'cryptobri_',\n",
       "    'name': 'Crypto Bri',\n",
       "    'id': 1417477410841366538,\n",
       "    'id_str': '1417477410841366538',\n",
       "    'indices': [3, 14]},\n",
       "   {'screen_name': 'MojitoSwap',\n",
       "    'name': 'MojitoSwap',\n",
       "    'id': 1428551747786530819,\n",
       "    'id_str': '1428551747786530819',\n",
       "    'indices': [64, 75]},\n",
       "   {'screen_name': 'kucoincom',\n",
       "    'name': 'KUCOIN',\n",
       "    'id': 910110294625492992,\n",
       "    'id_str': '910110294625492992',\n",
       "    'indices': [115, 125]}],\n",
       "  'urls': []},\n",
       " 'metadata': {'iso_language_code': 'en', 'result_type': 'recent'},\n",
       " 'source': '<a href=\"http://twitter.com/download/android\" rel=\"nofollow\">Twitter for Android</a>',\n",
       " 'in_reply_to_status_id': None,\n",
       " 'in_reply_to_status_id_str': None,\n",
       " 'in_reply_to_user_id': None,\n",
       " 'in_reply_to_user_id_str': None,\n",
       " 'in_reply_to_screen_name': None,\n",
       " 'user': {'id': 1398886786319876098,\n",
       "  'id_str': '1398886786319876098',\n",
       "  'name': 'Win Win Win Yess',\n",
       "  'screen_name': 'SarasZahirah',\n",
       "  'location': '',\n",
       "  'description': 'jangan lupa bersyukurr..',\n",
       "  'url': None,\n",
       "  'entities': {'description': {'urls': []}},\n",
       "  'protected': False,\n",
       "  'followers_count': 131,\n",
       "  'friends_count': 1997,\n",
       "  'listed_count': 0,\n",
       "  'created_at': 'Sun May 30 06:20:03 +0000 2021',\n",
       "  'favourites_count': 5144,\n",
       "  'utc_offset': None,\n",
       "  'time_zone': None,\n",
       "  'geo_enabled': False,\n",
       "  'verified': False,\n",
       "  'statuses_count': 4716,\n",
       "  'lang': None,\n",
       "  'contributors_enabled': False,\n",
       "  'is_translator': False,\n",
       "  'is_translation_enabled': False,\n",
       "  'profile_background_color': 'F5F8FA',\n",
       "  'profile_background_image_url': None,\n",
       "  'profile_background_image_url_https': None,\n",
       "  'profile_background_tile': False,\n",
       "  'profile_image_url': 'http://pbs.twimg.com/profile_images/1463382720956878852/fOdr8EFW_normal.jpg',\n",
       "  'profile_image_url_https': 'https://pbs.twimg.com/profile_images/1463382720956878852/fOdr8EFW_normal.jpg',\n",
       "  'profile_banner_url': 'https://pbs.twimg.com/profile_banners/1398886786319876098/1637733307',\n",
       "  'profile_link_color': '1DA1F2',\n",
       "  'profile_sidebar_border_color': 'C0DEED',\n",
       "  'profile_sidebar_fill_color': 'DDEEF6',\n",
       "  'profile_text_color': '333333',\n",
       "  'profile_use_background_image': True,\n",
       "  'has_extended_profile': True,\n",
       "  'default_profile': True,\n",
       "  'default_profile_image': False,\n",
       "  'following': False,\n",
       "  'follow_request_sent': False,\n",
       "  'notifications': False,\n",
       "  'translator_type': 'none',\n",
       "  'withheld_in_countries': []},\n",
       " 'geo': None,\n",
       " 'coordinates': None,\n",
       " 'place': None,\n",
       " 'contributors': None,\n",
       " 'retweeted_status': {'created_at': 'Thu Nov 25 20:51:54 +0000 2021',\n",
       "  'id': 1463973742812536832,\n",
       "  'id_str': '1463973742812536832',\n",
       "  'text': 'I need more $MJT !!!🥂🥂 \\n\\nI love the Yields with @MojitoSwap🍹 , Happy Thanksgiving Day✨🍗 \\n\\n$MJT 🚀🚀🚀 @kucoincom\\n\\nGet… https://t.co/OBF5LILM6v',\n",
       "  'truncated': True,\n",
       "  'entities': {'hashtags': [],\n",
       "   'symbols': [{'text': 'MJT', 'indices': [12, 16]},\n",
       "    {'text': 'MJT', 'indices': [90, 94]}],\n",
       "   'user_mentions': [{'screen_name': 'MojitoSwap',\n",
       "     'name': 'MojitoSwap',\n",
       "     'id': 1428551747786530819,\n",
       "     'id_str': '1428551747786530819',\n",
       "     'indices': [48, 59]},\n",
       "    {'screen_name': 'kucoincom',\n",
       "     'name': 'KUCOIN',\n",
       "     'id': 910110294625492992,\n",
       "     'id_str': '910110294625492992',\n",
       "     'indices': [99, 109]}],\n",
       "   'urls': [{'url': 'https://t.co/OBF5LILM6v',\n",
       "     'expanded_url': 'https://twitter.com/i/web/status/1463973742812536832',\n",
       "     'display_url': 'twitter.com/i/web/status/1…',\n",
       "     'indices': [116, 139]}]},\n",
       "  'metadata': {'iso_language_code': 'en', 'result_type': 'recent'},\n",
       "  'source': '<a href=\"http://twitter.com/download/iphone\" rel=\"nofollow\">Twitter for iPhone</a>',\n",
       "  'in_reply_to_status_id': None,\n",
       "  'in_reply_to_status_id_str': None,\n",
       "  'in_reply_to_user_id': None,\n",
       "  'in_reply_to_user_id_str': None,\n",
       "  'in_reply_to_screen_name': None,\n",
       "  'user': {'id': 1417477410841366538,\n",
       "   'id_str': '1417477410841366538',\n",
       "   'name': 'Crypto Bri',\n",
       "   'screen_name': 'cryptobri_',\n",
       "   'location': '',\n",
       "   'description': 'NOT FINANCIAL ADVICE - Do your own research 🔬 ❤️ NFT & Crypto Enthusiast ❤️. #1 Fan of @TusksNFT & @OfficialBabyTRX 👍 @Muipoy = Verified',\n",
       "   'url': 'https://t.co/31v6YzmIYX',\n",
       "   'entities': {'url': {'urls': [{'url': 'https://t.co/31v6YzmIYX',\n",
       "       'expanded_url': 'https://t.me/BabyTronHolders',\n",
       "       'display_url': 't.me/BabyTronHolders',\n",
       "       'indices': [0, 23]}]},\n",
       "    'description': {'urls': []}},\n",
       "   'protected': False,\n",
       "   'followers_count': 83351,\n",
       "   'friends_count': 15,\n",
       "   'listed_count': 86,\n",
       "   'created_at': 'Tue Jul 20 13:32:27 +0000 2021',\n",
       "   'favourites_count': 909,\n",
       "   'utc_offset': None,\n",
       "   'time_zone': None,\n",
       "   'geo_enabled': False,\n",
       "   'verified': False,\n",
       "   'statuses_count': 876,\n",
       "   'lang': None,\n",
       "   'contributors_enabled': False,\n",
       "   'is_translator': False,\n",
       "   'is_translation_enabled': False,\n",
       "   'profile_background_color': 'F5F8FA',\n",
       "   'profile_background_image_url': None,\n",
       "   'profile_background_image_url_https': None,\n",
       "   'profile_background_tile': False,\n",
       "   'profile_image_url': 'http://pbs.twimg.com/profile_images/1452864422511321091/YtHmw92x_normal.jpg',\n",
       "   'profile_image_url_https': 'https://pbs.twimg.com/profile_images/1452864422511321091/YtHmw92x_normal.jpg',\n",
       "   'profile_banner_url': 'https://pbs.twimg.com/profile_banners/1417477410841366538/1637820865',\n",
       "   'profile_link_color': '1DA1F2',\n",
       "   'profile_sidebar_border_color': 'C0DEED',\n",
       "   'profile_sidebar_fill_color': 'DDEEF6',\n",
       "   'profile_text_color': '333333',\n",
       "   'profile_use_background_image': True,\n",
       "   'has_extended_profile': True,\n",
       "   'default_profile': True,\n",
       "   'default_profile_image': False,\n",
       "   'following': False,\n",
       "   'follow_request_sent': False,\n",
       "   'notifications': False,\n",
       "   'translator_type': 'none',\n",
       "   'withheld_in_countries': []},\n",
       "  'geo': None,\n",
       "  'coordinates': None,\n",
       "  'place': None,\n",
       "  'contributors': None,\n",
       "  'is_quote_status': False,\n",
       "  'retweet_count': 129,\n",
       "  'favorite_count': 151,\n",
       "  'favorited': False,\n",
       "  'retweeted': False,\n",
       "  'possibly_sensitive': False,\n",
       "  'lang': 'en'},\n",
       " 'is_quote_status': False,\n",
       " 'retweet_count': 129,\n",
       " 'favorite_count': 0,\n",
       " 'favorited': False,\n",
       " 'retweeted': False,\n",
       " 'lang': 'en'}"
      ]
     },
     "execution_count": 19,
     "metadata": {},
     "output_type": "execute_result"
    }
   ],
   "source": [
    "tweets[0]._json"
   ]
  },
  {
   "cell_type": "code",
   "execution_count": 36,
   "metadata": {},
   "outputs": [],
   "source": [
    "tweets = []\n",
    "with open(\"../data/shib_tweets.jsons\") as f:\n",
    "    for line in f:\n",
    "        tweet = json.loads(line)\n",
    "        tweets.append(tweet)"
   ]
  },
  {
   "cell_type": "code",
   "execution_count": 45,
   "metadata": {
    "scrolled": false
   },
   "outputs": [
    {
     "data": {
      "text/plain": [
       "'$DATX will have another ATH this month, I confirm it\\n$VTHO $MATIC $AAVE $TONE $SDN $DOGE $eth $YOP $PYR $REEF $POLK… https://t.co/X4ropnKkZ6'"
      ]
     },
     "execution_count": 45,
     "metadata": {},
     "output_type": "execute_result"
    }
   ],
   "source": [
    "tweets[14]['text']"
   ]
  },
  {
   "cell_type": "code",
   "execution_count": 46,
   "metadata": {},
   "outputs": [],
   "source": [
    "user_ids = set()\n",
    "with open(\"../data/shib_tweets.jsons\") as f:\n",
    "    for line in f:\n",
    "        tweet = json.loads(line)\n",
    "        user_ids.add(tweet['user']['id'])"
   ]
  },
  {
   "cell_type": "code",
   "execution_count": 47,
   "metadata": {},
   "outputs": [
    {
     "data": {
      "text/plain": [
       "1241"
      ]
     },
     "execution_count": 47,
     "metadata": {},
     "output_type": "execute_result"
    }
   ],
   "source": [
    "len(user_ids)"
   ]
  },
  {
   "cell_type": "code",
   "execution_count": null,
   "metadata": {},
   "outputs": [],
   "source": []
  }
 ],
 "metadata": {
  "kernelspec": {
   "display_name": "Python 3",
   "language": "python",
   "name": "python3"
  },
  "language_info": {
   "codemirror_mode": {
    "name": "ipython",
    "version": 3
   },
   "file_extension": ".py",
   "mimetype": "text/x-python",
   "name": "python",
   "nbconvert_exporter": "python",
   "pygments_lexer": "ipython3",
   "version": "3.7.3"
  }
 },
 "nbformat": 4,
 "nbformat_minor": 2
}
